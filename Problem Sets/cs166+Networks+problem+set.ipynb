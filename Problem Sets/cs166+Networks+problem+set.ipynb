{
 "cells": [
  {
   "cell_type": "code",
   "execution_count": 2,
   "metadata": {
    "collapsed": true
   },
   "outputs": [],
   "source": [
    "import random as rd\n",
    "import matplotlib\n",
    "from pylab import *\n",
    "import networkx as nx\n",
    "import collections\n",
    "import numpy as np\n",
    "\n",
    "m0 = 30 # number of nodes in initial condition\n",
    "m = 4 # number of edges per new node\n",
    "\n",
    "def initialize():\n",
    "    global g\n",
    "    g = nx.complete_graph(m0)\n",
    "    g.pos = nx.spring_layout(g)\n",
    "    g.count = 0\n",
    "\n",
    "def observe():\n",
    "    global g\n",
    "    cla()\n",
    "    nx.draw(g, pos = g.pos)\n",
    "\n",
    "def pref_select(nds):\n",
    "    global g\n",
    "    r = uniform(0, sum(g.degree(i) for i in nds))\n",
    "    x=0\n",
    "    for i in nds:\n",
    "        x += g.degree[i]\n",
    "        if r <= x:\n",
    "            return i\n",
    "\n",
    "def update():\n",
    "    global g\n",
    "    g.count += 1\n",
    "    if g.count % 20 == 0: # network growth once in every 20 steps\n",
    "        nds = list(g.nodes)\n",
    "        newcomer = max(nds) + 1\n",
    "        if rd.uniform(0,1) < 0.5:\n",
    "            for i in range(m):\n",
    "                j = pref_select(nds)\n",
    "                g.add_edge(newcomer, j)\n",
    "                nds.remove(j)\n",
    "            g.pos[newcomer] = (0, 0)\n",
    "        else:\n",
    "            for i in range(m):\n",
    "                j = rd.choice(nds)\n",
    "                if g.degree[j] > 0:\n",
    "                    g.add_edge(newcomer, j)\n",
    "                    nds.remove(j)\n",
    "            g.pos[newcomer] = (0, 0)\n",
    "\n",
    "    # simulation of node movement\n",
    "    g.pos = nx.spring_layout(g, pos = g.pos, iterations = 5)\n",
    "\n",
    "def degree_dist():\n",
    "    global g\n",
    "    #the code for the degree distriibutiion was taken from the networkx documentation\n",
    "    #https://networkx.org/documentation/stable/auto_examples/drawing/plot_degree_histogram.html\n",
    "    \n",
    "    degree_sequence = sorted([d for n, d in g.degree()], reverse=True)  # degree sequence\n",
    "    degreeCount = collections.Counter(degree_sequence)\n",
    "    deg, cnt = zip(*degreeCount.items())\n",
    "\n",
    "    fig, ax = plt.subplots(figsize=(11,6))\n",
    "    plt.bar(deg, cnt, width=0.80, color=\"b\")\n",
    "    \n",
    "    plt.title(\"Degree Histogram\")\n",
    "    plt.ylabel(\"Count\")\n",
    "    plt.xlabel(\"Degree\")\n",
    "    ax.set_xticks([d + 0.4 for d in deg])\n",
    "    ax.set_xticklabels(deg)\n",
    "    plt.show()\n",
    "    \n",
    "    print('The average degree is', round(np.mean(degree_sequence),2), 'and the 95% confidence interval is', np.percentile(degree_sequence, [2.5, 97.5]))\n",
    "#matplotlib.use('TkAgg')\n",
    "#import pycxsimulator\n",
    "#pycxsimulator.GUI().start(func=[initialize, observe, update])\n",
    "    "
   ]
  },
  {
   "cell_type": "code",
   "execution_count": 6,
   "metadata": {},
   "outputs": [
    {
     "name": "stderr",
     "output_type": "stream",
     "text": [
      "/Users/nazaryaremko/anaconda3/lib/python3.6/site-packages/ipykernel_launcher.py:24: DeprecationWarning: Calling np.sum(generator) is deprecated, and in the future will give a different result. Use np.sum(np.fromiter(generator)) or the python sum builtin instead.\n"
     ]
    },
    {
     "data": {
      "image/png": "[encoded data removed]",
      "text/plain": [
       "<matplotlib.figure.Figure at 0x7fd19cc5fd68>"
      ]
     },
     "metadata": {},
     "output_type": "display_data"
    },
    {
     "name": "stdout",
     "output_type": "stream",
     "text": [
      "The average degree is 12.85 and the 95% confidence interval is [ 4.    41.775]\n"
     ]
    }
   ],
   "source": [
    "initialize()\n",
    "for i in range(2000):\n",
    "    update()\n",
    "    \n",
    "degree_dist()"
   ]
  },
  {
   "cell_type": "code",
   "execution_count": 4,
   "metadata": {
    "collapsed": true
   },
   "outputs": [],
   "source": [
    "def update2():\n",
    "    global g\n",
    "    g.count += 1\n",
    "    if g.count % 20 == 0: # network growth once in every 20 steps\n",
    "        nds = list(g.nodes)\n",
    "        newcomer = max(nds) + 1\n",
    "        for i in range(m):\n",
    "            j = pref_select(nds)\n",
    "            g.add_edge(newcomer, j)\n",
    "            nds.remove(j)\n",
    "        g.pos[newcomer] = (0, 0)\n",
    "\n",
    "    # simulation of node movement\n",
    "    g.pos = nx.spring_layout(g, pos = g.pos, iterations = 5)\n",
    "\n",
    "    \n",
    "#import pycxsimulator\n",
    "#pycxsimulator.GUI().start(func=[initialize, observe, update])"
   ]
  },
  {
   "cell_type": "code",
   "execution_count": 7,
   "metadata": {},
   "outputs": [
    {
     "name": "stderr",
     "output_type": "stream",
     "text": [
      "/Users/nazaryaremko/anaconda3/lib/python3.6/site-packages/ipykernel_launcher.py:24: DeprecationWarning: Calling np.sum(generator) is deprecated, and in the future will give a different result. Use np.sum(np.fromiter(generator)) or the python sum builtin instead.\n"
     ]
    },
    {
     "data": {
      "image/png": "[encoded data removed]",
      "text/plain": [
       "<matplotlib.figure.Figure at 0x7fd19b826128>"
      ]
     },
     "metadata": {},
     "output_type": "display_data"
    },
    {
     "name": "stdout",
     "output_type": "stream",
     "text": [
      "The average degree is 12.85 and the 95% confidence interval is [ 4. 43.]\n"
     ]
    }
   ],
   "source": [
    "initialize()\n",
    "for i in range(2000):\n",
    "    update2()\n",
    "    \n",
    "degree_dist()"
   ]
  }
 ],
 "metadata": {
  "kernelspec": {
   "display_name": "Python 3",
   "language": "python",
   "name": "python3"
  },
  "language_info": {
   "codemirror_mode": {
    "name": "ipython",
    "version": 3
   },
   "file_extension": ".py",
   "mimetype": "text/x-python",
   "name": "python",
   "nbconvert_exporter": "python",
   "pygments_lexer": "ipython3",
   "version": "3.6.3"
  }
 },
 "nbformat": 4,
 "nbformat_minor": 2
}
