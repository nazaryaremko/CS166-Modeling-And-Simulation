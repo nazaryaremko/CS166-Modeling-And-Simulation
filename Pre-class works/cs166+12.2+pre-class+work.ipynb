{
 "cells": [
  {
   "cell_type": "code",
   "execution_count": 2,
   "metadata": {
    "collapsed": true
   },
   "outputs": [],
   "source": [
    "def calculate_q(k):\n",
    "    '''\n",
    "    Use a numerical root finder to determine q from the equation\n",
    "    q = exp(k*(q-1)).\n",
    "    '''\n",
    "    from scipy.optimize import root\n",
    "    return root(lambda q: q - np.exp(k * (q - 1)), 0).x[0]"
   ]
  },
  {
   "cell_type": "code",
   "execution_count": 6,
   "metadata": {},
   "outputs": [
    {
     "data": {
      "image/png": "[encoded data removed]",
      "text/plain": [
       "<matplotlib.figure.Figure at 0x7fa475f847f0>"
      ]
     },
     "metadata": {},
     "output_type": "display_data"
    }
   ],
   "source": [
    "import matplotlib.pyplot as plt\n",
    "import numpy as np\n",
    "ks = np.linspace(0,10,50)\n",
    "ns = []\n",
    "for i in ks:\n",
    "    ns.append(n*(1-calculate_q(i)))\n",
    "plt.plot(ks, qs, color='royalblue')\n",
    "plt.xlabel('k')\n",
    "plt.ylabel('q')\n",
    "plt.grid()\n",
    "plt.show()"
   ]
  },
  {
   "cell_type": "code",
   "execution_count": null,
   "metadata": {
    "collapsed": true
   },
   "outputs": [],
   "source": []
  },
  {
   "cell_type": "markdown",
   "metadata": {},
   "source": [
    "I was not sure how to connect q and n:(("
   ]
  }
 ],
 "metadata": {
  "kernelspec": {
   "display_name": "Python 3",
   "language": "python",
   "name": "python3"
  },
  "language_info": {
   "codemirror_mode": {
    "name": "ipython",
    "version": 3
   },
   "file_extension": ".py",
   "mimetype": "text/x-python",
   "name": "python",
   "nbconvert_exporter": "python",
   "pygments_lexer": "ipython3",
   "version": "3.6.3"
  }
 },
 "nbformat": 4,
 "nbformat_minor": 2
}
