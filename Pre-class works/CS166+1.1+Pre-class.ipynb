{
 "cells": [
  {
   "cell_type": "code",
   "execution_count": 6,
   "metadata": {},
   "outputs": [
    {
     "name": "stdout",
     "output_type": "stream",
     "text": [
      "[1.46258528e-01 5.34052143e-01 2.07498618e-01 8.26689546e-01\n",
      " 2.05477795e-01 7.38204464e-02 1.03822923e-01 1.36756247e-03\n",
      " 4.69347949e-01 1.38811837e-02 6.13099853e-01 3.18289231e-02\n",
      " 1.53001579e-01 5.17943138e-01 6.30776527e-01 1.58677091e-01\n",
      " 1.36826526e-01 5.16256672e-01 1.68776775e-02 2.44030771e-01\n",
      " 6.43958138e-01 1.19836479e-01 1.79904062e-01 9.49533163e-01\n",
      " 7.74393716e-02 7.49694343e-01 2.22227682e-01 5.24625570e-01\n",
      " 1.14667215e+00 4.24187309e-01 1.56386984e-01 2.17261561e+00\n",
      " 1.66016605e-01 1.91095978e-01 4.71637024e-01 5.69172244e-02\n",
      " 3.87106578e-01 1.15346281e-02 4.19153641e-01 6.47195544e-01\n",
      " 2.61998622e-01 4.57799763e-01 8.36205018e-01 2.20411211e-01\n",
      " 3.62089241e-02 1.66613331e-02 4.78027592e-01 5.91041574e-01\n",
      " 2.52809121e-01 5.48206687e-01 6.10675261e-02 2.11471831e-01\n",
      " 8.65734464e-01 3.15538024e-02 4.52603530e-02 2.77876991e-02\n",
      " 1.18144044e-01 6.16426695e-02 1.01083857e-01 3.79527904e-01\n",
      " 6.11473152e-02 3.69265391e-01 8.30784063e-02 6.58529065e-03\n",
      " 3.60851522e-01 1.79725414e-01 7.58804865e-03 1.80778271e-01\n",
      " 5.95658885e-02 2.06060907e-01 3.01753493e-01 1.82444565e-01\n",
      " 1.78572041e-01 6.64965967e-01 4.09504871e-01 9.21975841e-02\n",
      " 3.69573005e-01 9.45742229e-02 1.77590572e-01 2.92429385e-01\n",
      " 3.16373079e-01 1.19590732e-01 4.44936002e-01 2.99066219e-01\n",
      " 7.91771975e-01 8.91447800e-01 7.34552733e-02 1.01022677e+00\n",
      " 1.40783631e-02 7.54461600e-02 1.01709456e-01 9.04537249e-01\n",
      " 4.44819188e-01 9.56375448e-01 1.49852574e-01 1.77939224e-01\n",
      " 6.33553568e-01 4.83117997e-01 4.54272627e-01 1.67444646e-01]\n"
     ]
    }
   ],
   "source": [
    "import numpy as np\n",
    "import scipy.stats as sts\n",
    "rate_parameter = 3 # This is known as lambda in the exponential distribution\n",
    "distribution = sts.expon(scale=1/rate_parameter)\n",
    "sample = distribution.rvs(size = 100)\n",
    "print(sample)"
   ]
  },
  {
   "cell_type": "code",
   "execution_count": 7,
   "metadata": {},
   "outputs": [
    {
     "name": "stdout",
     "output_type": "stream",
     "text": [
      "0.3371018404130379\n",
      "0.11003213761049953\n"
     ]
    }
   ],
   "source": [
    "print(np.mean(sample))\n",
    "print(np.var(sample))"
   ]
  },
  {
   "cell_type": "code",
   "execution_count": null,
   "metadata": {
    "collapsed": true
   },
   "outputs": [],
   "source": []
  }
 ],
 "metadata": {
  "kernelspec": {
   "display_name": "Python 3",
   "language": "python",
   "name": "python3"
  },
  "language_info": {
   "codemirror_mode": {
    "name": "ipython",
    "version": 3
   },
   "file_extension": ".py",
   "mimetype": "text/x-python",
   "name": "python",
   "nbconvert_exporter": "python",
   "pygments_lexer": "ipython3",
   "version": "3.6.3"
  }
 },
 "nbformat": 4,
 "nbformat_minor": 2
}
