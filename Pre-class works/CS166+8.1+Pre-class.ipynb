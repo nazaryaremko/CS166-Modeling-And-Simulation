{
 "cells": [
  {
   "cell_type": "code",
   "execution_count": 5,
   "metadata": {},
   "outputs": [],
   "source": [
    "import scipy\n",
    "from matplotlib import pyplot as plt\n",
    "\n",
    "class IsingSimulation:\n",
    "\n",
    "    J = 6.34369e-21  # Interaction constant for iron [Joule]\n",
    "    kB = 1.38065e-23  # Boltzmann constant [Joule / Kelvin]\n",
    "\n",
    "    def __init__(self, size, temperature=300):\n",
    "        '''\n",
    "        Create a new Ising model simulation. The state is initialized\n",
    "        randomly.\n",
    "\n",
    "        Arguments:\n",
    "\n",
    "            size (int) The number of cells along each dimension of the\n",
    "              square grid.\n",
    "\n",
    "            temperature (float) The temperature in Kelvin at which to\n",
    "              run the simulation. The Curie temperature for iron is\n",
    "              1043 K. Room temperature is about 300 K. Default: 300.\n",
    "        '''\n",
    "        self.size = size\n",
    "        self.temperature = temperature\n",
    "        self.state = scipy.random.choice(\n",
    "            [-1, +1], size=(self.size, self.size))\n",
    "        self.step = 0\n",
    "\n",
    "    def set_temperature(self, temp):\n",
    "        '''\n",
    "        Set the temperature of the model in Kelvin.\n",
    "        '''\n",
    "        self.temperature = float(temp)\n",
    "\n",
    "    def energy(self):\n",
    "        '''\n",
    "        Compute the energy of the current state of the model.\n",
    "        '''\n",
    "        return -self.J * (self.state * (\n",
    "            scipy.roll(self.state, 1, axis=0) +\n",
    "            scipy.roll(self.state, 1, axis=1))).sum()\n",
    "\n",
    "    def average_magnetism(self):\n",
    "        '''\n",
    "        Compute the average per-cell magnetism of the current state\n",
    "        of the model.\n",
    "        '''\n",
    "        return self.state.mean()\n",
    "\n",
    "    def update(self):\n",
    "        '''\n",
    "        Do a single cell update of the model state.\n",
    "        '''\n",
    "        # Pick a random cell to flip\n",
    "        i, j = scipy.random.randint(self.size, size=2)\n",
    "\n",
    "        # Change in energy from current state to next state\n",
    "        delta_E = 2 * self.J * self.state[i,j] * (\n",
    "            self.state[(i + 1) % self.size, j] +\n",
    "            self.state[(i - 1) % self.size, j] +\n",
    "            self.state[i, (j + 1) % self.size] +\n",
    "            self.state[i, (j - 1) % self.size])\n",
    "\n",
    "        # Log probability of changing state\n",
    "        log_p = -delta_E / (self.temperature * self.kB)\n",
    "        if scipy.log(scipy.random.uniform(0, 1)) < log_p:\n",
    "            self.state[i,j] = -self.state[i,j]\n",
    "\n",
    "        self.step += 1\n",
    "\n",
    "    def display(self):\n",
    "        '''\n",
    "        Plot the state of the model.\n",
    "        '''\n",
    "        plt.figure()\n",
    "        plt.imshow(self.state, vmin=-1, vmax=+1)\n",
    "        plt.title('Step: ' + str(self.step) + ', M = ' + str(self.average_magnetism()))"
   ]
  },
  {
   "cell_type": "code",
   "execution_count": 6,
   "metadata": {},
   "outputs": [
    {
     "name": "stderr",
     "output_type": "stream",
     "text": [
      "/Users/nazaryaremko/anaconda3/lib/python3.6/site-packages/ipykernel_launcher.py:66: DeprecationWarning: scipy.log is deprecated and will be removed in SciPy 2.0.0, use numpy.lib.scimath.log instead\n"
     ]
    }
   ],
   "source": [
    "size = 20\n",
    "sim = IsingSimulation(size, temperature=1043)  # Ising model at the Curie temperature\n",
    "for _ in range(1000):\n",
    "    sim.update()\n",
    "sim.display()"
   ]
  },
  {
   "cell_type": "code",
   "execution_count": null,
   "metadata": {
    "collapsed": true
   },
   "outputs": [],
   "source": []
  }
 ],
 "metadata": {
  "kernelspec": {
   "display_name": "Python 3",
   "language": "python",
   "name": "python3"
  },
  "language_info": {
   "codemirror_mode": {
    "name": "ipython",
    "version": 3
   },
   "file_extension": ".py",
   "mimetype": "text/x-python",
   "name": "python",
   "nbconvert_exporter": "python",
   "pygments_lexer": "ipython3",
   "version": "3.6.3"
  }
 },
 "nbformat": 4,
 "nbformat_minor": 2
}
