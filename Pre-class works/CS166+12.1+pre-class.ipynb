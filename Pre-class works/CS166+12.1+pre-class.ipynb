{
 "cells": [
  {
   "cell_type": "code",
   "execution_count": null,
   "metadata": {
    "collapsed": true
   },
   "outputs": [],
   "source": [
    "import matplotlib\n",
    "matplotlib.use('TkAgg')\n",
    "from pylab import *\n",
    "import networkx as nx\n",
    "import random as rd\n",
    "\n",
    "def initialize():\n",
    "    global g, nextg\n",
    "    g = nx.karate_club_graph()\n",
    "    for i, j in g.edges:\n",
    "        g.edges[i,j]['weight'] = rd.uniform(0.05,1)\n",
    "    for i in g.nodes:\n",
    "        g.nodes[i]['opinion'] = rd.uniform(0,1)\n",
    "    nextg = g.copy()\n",
    "    nextg.pos = g.pos = nx.spring_layout(g)\n",
    "\n",
    "def observe():\n",
    "    global g, nextg\n",
    "    cla()\n",
    "    nx.draw(g, vmin = 0, vmax = 1,\n",
    "            node_color = [g.nodes[i]['opinion'] for i in g.nodes],\n",
    "            edge_cmap = cm.binary, edge_vmin = 0, edge_vmax = 1,\n",
    "            edge_color = [g.edges[i,j]['weight'] for i, j in g.edges],\n",
    "            pos = g.pos)\n",
    "\n",
    "alpha = 0.03 # diffusion constant\n",
    "beta = 0.3 # rate of adaptive edge weight change\n",
    "gamma = 4 # pickiness of nodes\n",
    "\n",
    "def update():\n",
    "    global g, nextg\n",
    "    connection = rd.choice(list(g.edges))\n",
    "    delta_o_i = alpha*g.edges[connection]['weight']*(g.nodes[connection[1]]['opinion']-g.nodes[connection[0]]['opinion'])\n",
    "    g.nodes[connection[0]]['opinion'] += delta_o_i\n",
    "    delta_o_j = alpha*g.edges[connection]['weight']*(g.nodes[connection[0]]['opinion']-g.nodes[connection[1]]['opinion'])\n",
    "    g.nodes[connection[1]]['opinion'] += delta_o_j\n",
    "    \n",
    "    delta_w = beta*g.edges[connection]['weight']*(1-g.edges[connection]['weight'])*(1-gamma*abs(g.nodes[connection[0]]['opinion']-g.nodes[connection[1]]['opinion']))\n",
    "    g.edges[connection]['weight'] += delta_w\n",
    "    \n",
    "    if g.edges[connection]['weight'] <= 0.05:\n",
    "        g.remove_edge(connection[0], connection[1])\n",
    "        \n",
    "    if rd.uniform(0,1) < 0.01:\n",
    "        g.add_edges_from([rd.choice(list(g.edges)), rd.choice(list(g.edges))], weight=0.5)\n",
    "    \n",
    "    nextg.pos = nx.spring_layout(nextg, pos = g.pos, iterations = 5)\n",
    "    g, nextg = nextg, g\n",
    "\n",
    "import pycxsimulator\n",
    "pycxsimulator.GUI().start(func=[initialize, observe, update])"
   ]
  },
  {
   "cell_type": "code",
   "execution_count": null,
   "metadata": {
    "collapsed": true
   },
   "outputs": [],
   "source": []
  }
 ],
 "metadata": {
  "kernelspec": {
   "display_name": "Python 3",
   "language": "python",
   "name": "python3"
  },
  "language_info": {
   "codemirror_mode": {
    "name": "ipython",
    "version": 3
   },
   "file_extension": ".py",
   "mimetype": "text/x-python",
   "name": "python",
   "nbconvert_exporter": "python",
   "pygments_lexer": "ipython3",
   "version": "3.6.3"
  }
 },
 "nbformat": 4,
 "nbformat_minor": 2
}
