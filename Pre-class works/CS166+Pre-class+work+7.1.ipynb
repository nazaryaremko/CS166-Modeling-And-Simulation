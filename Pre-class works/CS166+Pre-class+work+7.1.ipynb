{
 "cells": [
  {
   "cell_type": "code",
   "execution_count": 22,
   "metadata": {},
   "outputs": [
    {
     "name": "stderr",
     "output_type": "stream",
     "text": [
      "/Users/nazaryaremko/anaconda3/lib/python3.6/site-packages/ipykernel_launcher.py:20: RuntimeWarning: invalid value encountered in double_scalars\n"
     ]
    }
   ],
   "source": [
    "import numpy as np\n",
    "import random\n",
    "import matplotlib.pyplot as plt\n",
    "\n",
    "matrix = np.ones([10,10])\n",
    "for x in range(np.shape(matrix)[0]):\n",
    "    for y in range(np.shape(matrix)[1]):\n",
    "        if random.uniform(0,1) > 0.5:\n",
    "            matrix[x,y] = -1\n",
    "  \n",
    "data = [[],[],[],[],[]]\n",
    "for t in range(len(data)):\n",
    "    T = t+1\n",
    "    for k in range(100):\n",
    "        for i in range(100000):\n",
    "            a = int(random.choice(np.linspace(0,9,10)))\n",
    "            b = int(random.choice(np.linspace(0,9,10)))\n",
    "            energy = -matrix[a,b]*(matrix[a-1,b]+matrix[a-np.shape(matrix)[0]+1,b]+matrix[a,b-1]+matrix[a,b-np.shape(matrix)[0]+1])\n",
    "\n",
    "            if random.uniform(0,1) < min(1, energy**((2*energy)/T)):\n",
    "                matrix[a,b] = -1*matrix[a,b]\n",
    "        data[t].append(matrix.mean())"
   ]
  },
  {
   "cell_type": "code",
   "execution_count": 23,
   "metadata": {},
   "outputs": [
    {
     "data": {
      "image/png": "[encoded data removed]",
      "text/plain": [
       "<matplotlib.figure.Figure at 0x7fe60b31ffd0>"
      ]
     },
     "metadata": {},
     "output_type": "display_data"
    }
   ],
   "source": [
    "plt.figure()\n",
    "plt.hist(data[0],edgecolor='black', color='cornflowerblue')\n",
    "plt.title('T=1')\n",
    "plt.show()"
   ]
  },
  {
   "cell_type": "code",
   "execution_count": 24,
   "metadata": {},
   "outputs": [
    {
     "data": {
      "image/png": "[encoded data removed]",
      "text/plain": [
       "<matplotlib.figure.Figure at 0x7fe60a0ce518>"
      ]
     },
     "metadata": {},
     "output_type": "display_data"
    }
   ],
   "source": [
    "plt.hist(data[1],edgecolor='black', color='cornflowerblue')\n",
    "plt.title('T=2')\n",
    "plt.show()"
   ]
  },
  {
   "cell_type": "code",
   "execution_count": 25,
   "metadata": {},
   "outputs": [
    {
     "data": {
      "image/png": "[encoded data removed]",
      "text/plain": [
       "<matplotlib.figure.Figure at 0x7fe609f52a58>"
      ]
     },
     "metadata": {},
     "output_type": "display_data"
    }
   ],
   "source": [
    "plt.hist(data[2],edgecolor='black', color='cornflowerblue')\n",
    "plt.title('T=3')\n",
    "plt.show()"
   ]
  },
  {
   "cell_type": "code",
   "execution_count": 26,
   "metadata": {},
   "outputs": [
    {
     "data": {
      "image/png": "[encoded data removed]",
      "text/plain": [
       "<matplotlib.figure.Figure at 0x7fe609d3f588>"
      ]
     },
     "metadata": {},
     "output_type": "display_data"
    }
   ],
   "source": [
    "plt.hist(data[3],edgecolor='black', color='cornflowerblue')\n",
    "plt.title('T=4')\n",
    "plt.show()"
   ]
  },
  {
   "cell_type": "code",
   "execution_count": 27,
   "metadata": {},
   "outputs": [
    {
     "data": {
      "image/png": "[encoded data removed]",
      "text/plain": [
       "<matplotlib.figure.Figure at 0x7fe60adbed68>"
      ]
     },
     "metadata": {},
     "output_type": "display_data"
    }
   ],
   "source": [
    "plt.hist(data[4],edgecolor='black', color='cornflowerblue')\n",
    "plt.title('T=5')\n",
    "plt.show()"
   ]
  }
 ],
 "metadata": {
  "kernelspec": {
   "display_name": "Python 3",
   "language": "python",
   "name": "python3"
  },
  "language_info": {
   "codemirror_mode": {
    "name": "ipython",
    "version": 3
   },
   "file_extension": ".py",
   "mimetype": "text/x-python",
   "name": "python",
   "nbconvert_exporter": "python",
   "pygments_lexer": "ipython3",
   "version": "3.6.3"
  }
 },
 "nbformat": 4,
 "nbformat_minor": 2
}
