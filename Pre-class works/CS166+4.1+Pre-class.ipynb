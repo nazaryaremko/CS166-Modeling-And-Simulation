{
 "cells": [
  {
   "cell_type": "code",
   "execution_count": 2,
   "metadata": {},
   "outputs": [
    {
     "name": "stdout",
     "output_type": "stream",
     "text": [
      "p**5*(70.0*p**4 - 315.0*p**3 + 540.0*p**2 - 420.0*p + 126.0)\n"
     ]
    }
   ],
   "source": [
    "import sympy\n",
    "# Use p as a symbolic variable\n",
    "from sympy.abc import p\n",
    "# The binomial coefficient function (n choose k)\n",
    "from scipy.special import comb\n",
    "\n",
    "result = ((1-p) * sum([comb(8, k) * p**k * (1-p)**(8-k)\n",
    "for k in range(5, 9)]) + p * sum([comb(8, k) * p**k * (1-p)**(8-k)\n",
    "for k in range(4, 9)]))\n",
    "print(sympy.simplify(result))"
   ]
  },
  {
   "cell_type": "code",
   "execution_count": 66,
   "metadata": {},
   "outputs": [
    {
     "name": "stdout",
     "output_type": "stream",
     "text": [
      "p**3*(p - 1)**4*(p*(14.0*p + 56.0) + 56.0*(p - 1)**2)\n"
     ]
    }
   ],
   "source": [
    "#Now for game of life\n",
    "result =  p * sum([comb(8, k) * p**k * (1-p)**(8-k)\n",
    "for k in range(3, 5)]) + ((1-p) * sum([comb(8, k) * p**k * (1-p)**(8-k)\n",
    "for k in range(3, 4)]))\n",
    "\n",
    "print(sympy.simplify(result))\n"
   ]
  },
  {
   "cell_type": "code",
   "execution_count": 68,
   "metadata": {},
   "outputs": [
    {
     "ename": "NameError",
     "evalue": "name 'x' is not defined",
     "output_type": "error",
     "traceback": [
      "\u001b[0;31m---------------------------------------------------------------------------\u001b[0m",
      "\u001b[0;31mNameError\u001b[0m                                 Traceback (most recent call last)",
      "\u001b[0;32m<ipython-input-68-907c4b909879>\u001b[0m in \u001b[0;36m<module>\u001b[0;34m()\u001b[0m\n\u001b[1;32m      7\u001b[0m \u001b[0my\u001b[0m \u001b[0;34m=\u001b[0m \u001b[0mnp\u001b[0m\u001b[0;34m.\u001b[0m\u001b[0mlinspace\u001b[0m\u001b[0;34m(\u001b[0m\u001b[0;36m0\u001b[0m\u001b[0;34m,\u001b[0m\u001b[0;36m10\u001b[0m\u001b[0;34m,\u001b[0m\u001b[0;36m11\u001b[0m\u001b[0;34m)\u001b[0m\u001b[0;34m\u001b[0m\u001b[0m\n\u001b[1;32m      8\u001b[0m \u001b[0;34m\u001b[0m\u001b[0m\n\u001b[0;32m----> 9\u001b[0;31m \u001b[0mplt\u001b[0m\u001b[0;34m.\u001b[0m\u001b[0mplot\u001b[0m\u001b[0;34m(\u001b[0m\u001b[0mx\u001b[0m\u001b[0;34m,\u001b[0m\u001b[0mf\u001b[0m\u001b[0;34m(\u001b[0m\u001b[0my\u001b[0m\u001b[0;34m)\u001b[0m\u001b[0;34m)\u001b[0m\u001b[0;34m\u001b[0m\u001b[0m\n\u001b[0m",
      "\u001b[0;31mNameError\u001b[0m: name 'x' is not defined"
     ]
    }
   ],
   "source": [
    "import numpy as np\n",
    "import matplotlib.pyplot as plt\n",
    "\n",
    "def f(p):\n",
    "    return p**3*(p - 1)**4*(p*(14.0*p + 56.0) + 56.0*(p - 1)**2)\n",
    "\n",
    "y = np.linspace(0,10,11)\n",
    "\n",
    "plt.plot(x,f(y))"
   ]
  },
  {
   "cell_type": "code",
   "execution_count": 7,
   "metadata": {},
   "outputs": [
    {
     "ename": "NameError",
     "evalue": "name 'plot_cobweb' is not defined",
     "output_type": "error",
     "traceback": [
      "\u001b[0;31m---------------------------------------------------------------------------\u001b[0m",
      "\u001b[0;31mNameError\u001b[0m                                 Traceback (most recent call last)",
      "\u001b[0;32m<ipython-input-7-ce5a12c4c396>\u001b[0m in \u001b[0;36m<module>\u001b[0;34m()\u001b[0m\n\u001b[1;32m     43\u001b[0m \u001b[0mfunc\u001b[0m \u001b[0;34m=\u001b[0m \u001b[0mAnnotatedFunction\u001b[0m\u001b[0;34m(\u001b[0m\u001b[0;32mlambda\u001b[0m \u001b[0mx\u001b[0m\u001b[0;34m,\u001b[0m\u001b[0mr\u001b[0m\u001b[0;34m:\u001b[0m \u001b[0mr\u001b[0m\u001b[0;34m*\u001b[0m\u001b[0mx\u001b[0m\u001b[0;34m*\u001b[0m\u001b[0;34m(\u001b[0m\u001b[0;36m1\u001b[0m\u001b[0;34m-\u001b[0m\u001b[0mx\u001b[0m\u001b[0;34m)\u001b[0m\u001b[0;34m,\u001b[0m \u001b[0;34mr'$rx(1-x)$'\u001b[0m\u001b[0;34m)\u001b[0m\u001b[0;34m\u001b[0m\u001b[0;34m\u001b[0m\u001b[0m\n\u001b[1;32m     44\u001b[0m \u001b[0;34m\u001b[0m\u001b[0m\n\u001b[0;32m---> 45\u001b[0;31m \u001b[0mplot_cobweb\u001b[0m\u001b[0;34m(\u001b[0m\u001b[0mfunc\u001b[0m\u001b[0;34m,\u001b[0m \u001b[0;36m2.8\u001b[0m\u001b[0;34m,\u001b[0m \u001b[0;36m0.2\u001b[0m\u001b[0;34m)\u001b[0m\u001b[0;34m\u001b[0m\u001b[0;34m\u001b[0m\u001b[0m\n\u001b[0m\u001b[1;32m     46\u001b[0m \u001b[0mplot_cobweb\u001b[0m\u001b[0;34m(\u001b[0m\u001b[0mfunc\u001b[0m\u001b[0;34m,\u001b[0m \u001b[0;36m3.8\u001b[0m\u001b[0;34m,\u001b[0m \u001b[0;36m0.2\u001b[0m\u001b[0;34m,\u001b[0m \u001b[0;36m200\u001b[0m\u001b[0;34m)\u001b[0m\u001b[0;34m\u001b[0m\u001b[0;34m\u001b[0m\u001b[0m\n\u001b[1;32m     47\u001b[0m \u001b[0;34m\u001b[0m\u001b[0m\n",
      "\u001b[0;31mNameError\u001b[0m: name 'plot_cobweb' is not defined"
     ]
    }
   ],
   "source": [
    "import matplotlib.pyplot as plt\n",
    "from scipy import cos, linspace\n",
    "\n",
    "def f(p):\n",
    "    return p**3*(p - 1)**4*(p*(14.0*p + 56.0) + 56.0*(p - 1)**2)\n",
    "\n",
    "def cobweb(f, x0, N, a=0, b=1):\n",
    "    # plot the function being iterated\n",
    "    t = linspace(a, b, N)\n",
    "    plt.plot(t, f(t), 'k')\n",
    "\n",
    "    # plot the dotted line y = x\n",
    "    plt.plot(t, t, \"k:\")\n",
    "    \n",
    "    # plot the iterates\n",
    "    x, y = x0, f(x0)\n",
    "    for _ in range(N):\n",
    "        fy = f(y)        \n",
    "        plt.plot([x, y], [y,  y], 'a', linewidth=1)\n",
    "        plt.plot([y, y], [y, fy], 'b', linewidth=1)\n",
    "        x, y = y, fy\n",
    "\n",
    "    plt.axes().set_aspect(1) \n",
    "    plt.show()\n",
    "    plt.close()\n",
    "    \n",
    "class AnnotatedFunction:\n",
    "    \"\"\"A small class representing a mathematical function.\n",
    "\n",
    "    This class is callable so it acts like a Python function, but it also\n",
    "    defines a string giving its latex representation.\n",
    "\n",
    "    \"\"\"\n",
    "\n",
    "    def __init__(self, func, latex_label):\n",
    "        self.func = func\n",
    "        self.latex_label = latex_label\n",
    "\n",
    "    def __call__(self, *args, **kwargs):\n",
    "        return self.func(*args, **kwargs)\n",
    "\n",
    "# The logistic map, f(x) = rx(1-x).\n",
    "func = AnnotatedFunction(lambda x,r: r*x*(1-x), r'$rx(1-x)$')\n",
    "\n",
    "plot_cobweb(func, 2.8, 0.2)\n",
    "plot_cobweb(func, 3.8, 0.2, 200)\n",
    "\n",
    "cobweb(f,0.8, 20)"
   ]
  },
  {
   "cell_type": "code",
   "execution_count": 1,
   "metadata": {
    "collapsed": true
   },
   "outputs": [],
   "source": [
    "interactive = True  # Set this variable to True to run an interactive\n",
    "                     # simulator. This will not work on CoCalc.\n",
    "\n",
    "import matplotlib\n",
    "if interactive:\n",
    "    matplotlib.use('TkAgg')\n",
    "\n",
    "import matplotlib.pyplot as plt\n",
    "import numpy as np\n",
    "\n",
    "\n",
    "class MajoritySimulator:\n",
    "\n",
    "    def __init__(self, size=100, initial_density=0.1, radius=1, interactive=True):\n",
    "        '''\n",
    "        Initialize new MajoritySimulator object with default parameter settings.\n",
    "\n",
    "        Inputs:\n",
    "\n",
    "            size (int) The number of cells along each dimension of the\n",
    "              2-dimensional grid. Default: 100.\n",
    "\n",
    "            initial_density (float) The proportion of cells that will be\n",
    "              active (1) when the cellular automaton is initialized. The\n",
    "              active cells will be at random locations. Default: 0.1.\n",
    "\n",
    "            radius (int) The radius of the neighborhoods in the CA.\n",
    "              Must be a positive integer. Default: 1.\n",
    "\n",
    "            interactive (bool) Whether or not we are running an interactive\n",
    "              simulation. In CoCalc we have to run in non-interactive mode\n",
    "              (False), but in your local Python environment you should be\n",
    "              able to run in interactive mode (True). Default: True.\n",
    "        '''\n",
    "        self.interactive = interactive\n",
    "        self.size = size\n",
    "        self.radius = radius\n",
    "        self.initial_density = initial_density\n",
    "\n",
    "        # Arrays for storing the current state and the next state (when we are\n",
    "        # busy doing a state update).\n",
    "        self.current_state = np.zeros((size, size))\n",
    "\n",
    "    def initialize(self):\n",
    "        '''\n",
    "        This will be called by the interactive pycxsimulator whenever the Reset\n",
    "        button is clicked.\n",
    "        '''\n",
    "\n",
    "        # Set up a random initial state where the fraction of 1s in the array\n",
    "        # equals the density parameter.\n",
    "        random_indexes = np.random.choice(\n",
    "            range(self.size ** 2),\n",
    "            size=int(round(self.initial_density * self.size ** 2)),\n",
    "            replace=False)\n",
    "\n",
    "        # Fill the entire state array with zeros.\n",
    "        self.current_state.fill(0)\n",
    "\n",
    "        # Note: the flat attribute, used below, allows you to treat a multi-\n",
    "        # dimensional array like a 1-dimensional array with the same number\n",
    "        # of cells.\n",
    "        self.current_state.flat[random_indexes] = 1\n",
    "\n",
    "    def draw(self):\n",
    "        '''\n",
    "        Draw the current state of the cellular automaton.\n",
    "        '''\n",
    "        if self.interactive:\n",
    "            plt.cla()  # Clear the current figure\n",
    "        else:\n",
    "            plt.figure()  # Create a new figure\n",
    "        plt.imshow(self.current_state, vmin = 0, vmax = 1, cmap = plt.cm.binary)\n",
    "        if not self.interactive:\n",
    "            plt.show()\n",
    "\n",
    "    def update(self):\n",
    "        '''\n",
    "        Update the state of the cellular automaton.\n",
    "        '''\n",
    "        total = np.zeros(self.current_state.shape)\n",
    "        for dx in range(-self.radius, self.radius+1):\n",
    "            shifted_state = np.roll(self.current_state, shift=dx, axis=1)\n",
    "            for dy in range(-self.radius, self.radius+1):\n",
    "                total += np.roll(shifted_state, shift=dy, axis=0)\n",
    "        cells_in_neighborhood = (2 * self.radius + 1) ** 2\n",
    "        majority_threshold = cells_in_neighborhood // 2 + 1\n",
    "        self.current_state = total // majority_threshold\n",
    "\n",
    "    def set_initial_density(self, value=None):\n",
    "        '''\n",
    "        The initial density of active cells. Only affects initialization (reset) of\n",
    "        the simulation. The density must be a value between 0 and 1.\n",
    "        '''\n",
    "        if value is not None:\n",
    "            self.initial_density = min(1, max(0, float(value)))\n",
    "        return self.initial_density\n",
    "\n",
    "    def set_radius(self, value=None):\n",
    "        '''\n",
    "        The radius of the cellular automaton. Must be a positive integer.\n",
    "        '''\n",
    "        if value is not None:\n",
    "            self.radius = int(value)\n",
    "        return self.radius"
   ]
  },
  {
   "cell_type": "code",
   "execution_count": 2,
   "metadata": {},
   "outputs": [
    {
     "ename": "TclError",
     "evalue": "bad window path name \".!frame\"",
     "output_type": "error",
     "traceback": [
      "\u001b[0;31m---------------------------------------------------------------------------\u001b[0m",
      "\u001b[0;31mTclError\u001b[0m                                  Traceback (most recent call last)",
      "\u001b[0;32m<ipython-input-2-78ba960be3a8>\u001b[0m in \u001b[0;36m<module>\u001b[0;34m()\u001b[0m\n\u001b[1;32m      5\u001b[0m     \u001b[0;31m# Set up the interactive user interface.\u001b[0m\u001b[0;34m\u001b[0m\u001b[0;34m\u001b[0m\u001b[0m\n\u001b[1;32m      6\u001b[0m     \u001b[0;32mimport\u001b[0m \u001b[0mpycxsimulator\u001b[0m\u001b[0;34m\u001b[0m\u001b[0m\n\u001b[0;32m----> 7\u001b[0;31m     \u001b[0mgui\u001b[0m \u001b[0;34m=\u001b[0m \u001b[0mpycxsimulator\u001b[0m\u001b[0;34m.\u001b[0m\u001b[0mGUI\u001b[0m\u001b[0;34m(\u001b[0m\u001b[0mparameterSetters\u001b[0m\u001b[0;34m=\u001b[0m\u001b[0;34m[\u001b[0m\u001b[0msim\u001b[0m\u001b[0;34m.\u001b[0m\u001b[0mset_initial_density\u001b[0m\u001b[0;34m,\u001b[0m \u001b[0msim\u001b[0m\u001b[0;34m.\u001b[0m\u001b[0mset_radius\u001b[0m\u001b[0;34m]\u001b[0m\u001b[0;34m)\u001b[0m\u001b[0;34m\u001b[0m\u001b[0m\n\u001b[0m\u001b[1;32m      8\u001b[0m     \u001b[0mgui\u001b[0m\u001b[0;34m.\u001b[0m\u001b[0mstart\u001b[0m\u001b[0;34m(\u001b[0m\u001b[0mfunc\u001b[0m\u001b[0;34m=\u001b[0m\u001b[0;34m[\u001b[0m\u001b[0msim\u001b[0m\u001b[0;34m.\u001b[0m\u001b[0minitialize\u001b[0m\u001b[0;34m,\u001b[0m \u001b[0msim\u001b[0m\u001b[0;34m.\u001b[0m\u001b[0mdraw\u001b[0m\u001b[0;34m,\u001b[0m \u001b[0msim\u001b[0m\u001b[0;34m.\u001b[0m\u001b[0mupdate\u001b[0m\u001b[0;34m]\u001b[0m\u001b[0;34m)\u001b[0m\u001b[0;34m\u001b[0m\u001b[0m\n\u001b[1;32m      9\u001b[0m \u001b[0;34m\u001b[0m\u001b[0m\n",
      "\u001b[0;32m~/pycxsimulator.py\u001b[0m in \u001b[0;36m__init__\u001b[0;34m(self, title, interval, stepSize, parameterSetters)\u001b[0m\n\u001b[1;32m     52\u001b[0m         \u001b[0mself\u001b[0m\u001b[0;34m.\u001b[0m\u001b[0mstatusStr\u001b[0m \u001b[0;34m=\u001b[0m \u001b[0;34m\"\"\u001b[0m\u001b[0;34m\u001b[0m\u001b[0m\n\u001b[1;32m     53\u001b[0m \u001b[0;34m\u001b[0m\u001b[0m\n\u001b[0;32m---> 54\u001b[0;31m         \u001b[0mself\u001b[0m\u001b[0;34m.\u001b[0m\u001b[0minitGUI\u001b[0m\u001b[0;34m(\u001b[0m\u001b[0;34m)\u001b[0m\u001b[0;34m\u001b[0m\u001b[0m\n\u001b[0m\u001b[1;32m     55\u001b[0m \u001b[0;34m\u001b[0m\u001b[0m\n\u001b[1;32m     56\u001b[0m \u001b[0;34m\u001b[0m\u001b[0m\n",
      "\u001b[0;32m~/pycxsimulator.py\u001b[0m in \u001b[0;36minitGUI\u001b[0;34m(self)\u001b[0m\n\u001b[1;32m     78\u001b[0m         \u001b[0mself\u001b[0m\u001b[0;34m.\u001b[0m\u001b[0mframeInformation\u001b[0m \u001b[0;34m=\u001b[0m \u001b[0mFrame\u001b[0m\u001b[0;34m(\u001b[0m\u001b[0;34m)\u001b[0m\u001b[0;34m\u001b[0m\u001b[0m\n\u001b[1;32m     79\u001b[0m \u001b[0;34m\u001b[0m\u001b[0m\n\u001b[0;32m---> 80\u001b[0;31m         \u001b[0mself\u001b[0m\u001b[0;34m.\u001b[0m\u001b[0mnotebook\u001b[0m\u001b[0;34m.\u001b[0m\u001b[0madd\u001b[0m\u001b[0;34m(\u001b[0m\u001b[0mself\u001b[0m\u001b[0;34m.\u001b[0m\u001b[0mframeRun\u001b[0m\u001b[0;34m,\u001b[0m\u001b[0mtext\u001b[0m\u001b[0;34m=\u001b[0m\u001b[0;34m\"Run\"\u001b[0m\u001b[0;34m)\u001b[0m\u001b[0;34m\u001b[0m\u001b[0m\n\u001b[0m\u001b[1;32m     81\u001b[0m         \u001b[0mself\u001b[0m\u001b[0;34m.\u001b[0m\u001b[0mnotebook\u001b[0m\u001b[0;34m.\u001b[0m\u001b[0madd\u001b[0m\u001b[0;34m(\u001b[0m\u001b[0mself\u001b[0m\u001b[0;34m.\u001b[0m\u001b[0mframeSettings\u001b[0m\u001b[0;34m,\u001b[0m\u001b[0mtext\u001b[0m\u001b[0;34m=\u001b[0m\u001b[0;34m\"Settings\"\u001b[0m\u001b[0;34m)\u001b[0m\u001b[0;34m\u001b[0m\u001b[0m\n\u001b[1;32m     82\u001b[0m         \u001b[0mself\u001b[0m\u001b[0;34m.\u001b[0m\u001b[0mnotebook\u001b[0m\u001b[0;34m.\u001b[0m\u001b[0madd\u001b[0m\u001b[0;34m(\u001b[0m\u001b[0mself\u001b[0m\u001b[0;34m.\u001b[0m\u001b[0mframeParameters\u001b[0m\u001b[0;34m,\u001b[0m\u001b[0mtext\u001b[0m\u001b[0;34m=\u001b[0m\u001b[0;34m\"Parameters\"\u001b[0m\u001b[0;34m)\u001b[0m\u001b[0;34m\u001b[0m\u001b[0m\n",
      "\u001b[0;32m~/anaconda3/lib/python3.6/tkinter/ttk.py\u001b[0m in \u001b[0;36madd\u001b[0;34m(self, child, **kw)\u001b[0m\n\u001b[1;32m    844\u001b[0m         \u001b[0mIf\u001b[0m \u001b[0mwindow\u001b[0m \u001b[0;32mis\u001b[0m \u001b[0mcurrently\u001b[0m \u001b[0mmanaged\u001b[0m \u001b[0mby\u001b[0m \u001b[0mthe\u001b[0m \u001b[0mnotebook\u001b[0m \u001b[0mbut\u001b[0m \u001b[0mhidden\u001b[0m\u001b[0;34m,\u001b[0m \u001b[0mit\u001b[0m \u001b[0;32mis\u001b[0m\u001b[0;34m\u001b[0m\u001b[0m\n\u001b[1;32m    845\u001b[0m         restored to its previous position.\"\"\"\n\u001b[0;32m--> 846\u001b[0;31m         \u001b[0mself\u001b[0m\u001b[0;34m.\u001b[0m\u001b[0mtk\u001b[0m\u001b[0;34m.\u001b[0m\u001b[0mcall\u001b[0m\u001b[0;34m(\u001b[0m\u001b[0mself\u001b[0m\u001b[0;34m.\u001b[0m\u001b[0m_w\u001b[0m\u001b[0;34m,\u001b[0m \u001b[0;34m\"add\"\u001b[0m\u001b[0;34m,\u001b[0m \u001b[0mchild\u001b[0m\u001b[0;34m,\u001b[0m \u001b[0;34m*\u001b[0m\u001b[0;34m(\u001b[0m\u001b[0m_format_optdict\u001b[0m\u001b[0;34m(\u001b[0m\u001b[0mkw\u001b[0m\u001b[0;34m)\u001b[0m\u001b[0;34m)\u001b[0m\u001b[0;34m)\u001b[0m\u001b[0;34m\u001b[0m\u001b[0m\n\u001b[0m\u001b[1;32m    847\u001b[0m \u001b[0;34m\u001b[0m\u001b[0m\n\u001b[1;32m    848\u001b[0m \u001b[0;34m\u001b[0m\u001b[0m\n",
      "\u001b[0;31mTclError\u001b[0m: bad window path name \".!frame\""
     ]
    }
   ],
   "source": [
    "# Set up the simulation\n",
    "sim = MajoritySimulator(initial_density=0.45, radius=1, interactive=interactive)\n",
    "\n",
    "if interactive:\n",
    "    # Set up the interactive user interface.\n",
    "    import pycxsimulator\n",
    "    gui = pycxsimulator.GUI(parameterSetters=[sim.set_initial_density, sim.set_radius])\n",
    "    gui.start(func=[sim.initialize, sim.draw, sim.update])\n",
    "\n",
    "else:\n",
    "    # Run the simulator for 100 steps and show some of the steps.\n",
    "    print('Initial state:')\n",
    "    sim.initialize()\n",
    "    sim.draw()\n",
    "\n",
    "    print('After steps 1-5:')\n",
    "    for i in range(1, 6):\n",
    "        sim.update()\n",
    "        sim.draw()\n",
    "\n",
    "    print('After steps 100-500')\n",
    "    for i in range(6, 101):\n",
    "        sim.update()\n",
    "    sim.draw()\n",
    "    for i in range(200, 501, 100):\n",
    "        for j in range(100):\n",
    "            sim.update()\n",
    "        sim.draw()"
   ]
  },
  {
   "cell_type": "code",
   "execution_count": 59,
   "metadata": {
    "collapsed": true
   },
   "outputs": [],
   "source": [
    "# Simple CA simulator in Python\n",
    "#\n",
    "# *** Forest fire ***\n",
    "#\n",
    "# Copyright 2008-2012 Hiroki Sayama\n",
    "# sayama@binghamton.edu\n",
    "\n",
    "# Modified to run with Python 3\n",
    "\n",
    "import matplotlib\n",
    "%matplotlib inline\n",
    "\n",
    "import pylab as PL\n",
    "import random as RD\n",
    "import scipy as SP\n",
    "import numpy as np \n",
    "\n",
    "RD.seed()\n",
    "\n",
    "width = 100\n",
    "height = 100\n",
    "empty, tree, fire, char = range(4)\n",
    "\n",
    "def init(initProb):\n",
    "    global time, config, nextConfig\n",
    "\n",
    "    time = 0\n",
    "\n",
    "    config = SP.zeros([height, width])\n",
    "    for x in range(width):\n",
    "        for y in range(height):\n",
    "            if RD.random() < initProb:\n",
    "                state = tree\n",
    "            else:\n",
    "                state = empty\n",
    "            config[y, x] = state\n",
    "    config[height//2, width//2] = fire\n",
    "\n",
    "    nextConfig = SP.zeros([height, width])\n",
    "\n",
    "def draw():\n",
    "    PL.cla()\n",
    "    PL.pcolor(config, vmin = 0, vmax = 3, cmap = PL.cm.binary)\n",
    "    PL.axis('image')\n",
    "    PL.title('t = ' + str(time))\n",
    "\n",
    "def step():\n",
    "    global time, config, nextConfig\n",
    "\n",
    "    time += 1\n",
    "    \n",
    "    densities.append(np.count_nonzero(config == 3)/((np.count_nonzero(config == 1))+np.count_nonzero(config == 2)+np.count_nonzero(config == 3)))\n",
    "    for x in range(width):\n",
    "        for y in range(height):\n",
    "            state = config[y, x]\n",
    "            if state == fire:\n",
    "                state = char\n",
    "            elif state == tree:\n",
    "                for dx in range(-1, 2):\n",
    "                    for dy in range(-1, 2):\n",
    "                        if config[(y+dy)%height, (x+dx)%width] == fire:\n",
    "                            state = fire\n",
    "            nextConfig[y, x] = state\n",
    "\n",
    "    config, nextConfig = nextConfig, config"
   ]
  },
  {
   "cell_type": "code",
   "execution_count": 60,
   "metadata": {},
   "outputs": [
    {
     "name": "stdout",
     "output_type": "stream",
     "text": [
      "[1.0, 0.004140786749482402, 0.002838221381267739, 0.0012894906511927789, 0.0019408054342552159, 0.0049410870391486126, 0.011439466158245948, 0.0019001085776330076, 0.5110328638497652, 0.9541904158750264, 0.9946390963048056, 0.9986209274263058, 0.9996822875297855, 0.999854376001165, 1.0, 1.0, 1.0, 1.0, 1.0, 1.0]\n"
     ]
    }
   ],
   "source": [
    "init_probs = np.linspace(0,1,20)\n",
    "record = []\n",
    "\n",
    "for i in init_probs:\n",
    "    densities = []\n",
    "    init(i)\n",
    "    for i in range(100):\n",
    "        step()\n",
    "    record.append(densities[-1])\n",
    "    \n",
    "print(record)"
   ]
  },
  {
   "cell_type": "code",
   "execution_count": 62,
   "metadata": {},
   "outputs": [
    {
     "name": "stdout",
     "output_type": "stream",
     "text": [
      "[0.         0.05263158 0.10526316 0.15789474 0.21052632 0.26315789\n",
      " 0.31578947 0.36842105 0.42105263 0.47368421 0.52631579 0.57894737\n",
      " 0.63157895 0.68421053 0.73684211 0.78947368 0.84210526 0.89473684\n",
      " 0.94736842 1.        ]\n"
     ]
    }
   ],
   "source": [
    "print(init_probs)"
   ]
  },
  {
   "cell_type": "code",
   "execution_count": 63,
   "metadata": {},
   "outputs": [
    {
     "data": {
      "text/plain": [
       "[<matplotlib.lines.Line2D at 0x7f7f1335b9e8>]"
      ]
     },
     "execution_count": 63,
     "metadata": {},
     "output_type": "execute_result"
    },
    {
     "data": {
      "image/png": "[encoded data removed]",
      "text/plain": [
       "<Figure size 432x288 with 1 Axes>"
      ]
     },
     "metadata": {},
     "output_type": "display_data"
    }
   ],
   "source": [
    "import matplotlib.pyplot as plt\n",
    "plt.plot(np.linspace(0,99,100), densities)"
   ]
  }
 ],
 "metadata": {
  "kernelspec": {
   "display_name": "Python 3",
   "language": "python",
   "name": "python3"
  },
  "language_info": {
   "codemirror_mode": {
    "name": "ipython",
    "version": 3
   },
   "file_extension": ".py",
   "mimetype": "text/x-python",
   "name": "python",
   "nbconvert_exporter": "python",
   "pygments_lexer": "ipython3",
   "version": "3.6.3"
  }
 },
 "nbformat": 4,
 "nbformat_minor": 2
}
