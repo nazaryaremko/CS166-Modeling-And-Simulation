{
 "cells": [
  {
   "cell_type": "code",
   "execution_count": 5,
   "metadata": {},
   "outputs": [
    {
     "data": {
      "image/png": "[encoded data removed]",
      "text/plain": [
       "<matplotlib.figure.Figure at 0x7fba8c5aa978>"
      ]
     },
     "metadata": {},
     "output_type": "display_data"
    },
    {
     "name": "stdout",
     "output_type": "stream",
     "text": [
      "The 95% confidence interval of the final amount after using my strategy is: [150.66522942 757.87761322]\n",
      "The expected outcoome of the final amount after using my strategy is: 374.1684597563353\n"
     ]
    }
   ],
   "source": [
    "import random\n",
    "import matplotlib.pyplot as plt\n",
    "import numpy as np\n",
    "from statistics import stdev \n",
    "\n",
    "final = []\n",
    "for i in range(1000):\n",
    "    amount = 250\n",
    "    for n in range(20):\n",
    "        if random.uniform(0,1) < 0.6:\n",
    "            amount+=amount*0.1\n",
    "        else: \n",
    "            amount-=amount*0.1\n",
    "    final.append(amount)\n",
    "        \n",
    "plt.hist(final, edgecolor='black', color='cornflowerblue')\n",
    "plt.show()\n",
    "\n",
    "print('The 95% confidence interval of the final amount after using my strategy is:', np.percentile(final, [2.5, 97.5]))\n",
    "print('The expected outcoome of the final amount after using my strategy is:', np.mean(final))\n"
   ]
  },
  {
   "cell_type": "code",
   "execution_count": null,
   "metadata": {
    "collapsed": true
   },
   "outputs": [],
   "source": []
  }
 ],
 "metadata": {
  "kernelspec": {
   "display_name": "Python 3",
   "language": "python",
   "name": "python3"
  },
  "language_info": {
   "codemirror_mode": {
    "name": "ipython",
    "version": 3
   },
   "file_extension": ".py",
   "mimetype": "text/x-python",
   "name": "python",
   "nbconvert_exporter": "python",
   "pygments_lexer": "ipython3",
   "version": "3.6.3"
  }
 },
 "nbformat": 4,
 "nbformat_minor": 2
}
