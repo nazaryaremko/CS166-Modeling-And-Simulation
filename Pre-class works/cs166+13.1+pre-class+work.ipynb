{
 "cells": [
  {
   "cell_type": "code",
   "execution_count": 7,
   "metadata": {},
   "outputs": [],
   "source": [
    "import networkx as nx\n",
    "g = nx.erdos_renyi_graph(30, 0.05, directed=True, seed=123)\n",
    "nx.draw(g, pos=nx.kamada_kawai_layout(g))"
   ]
  },
  {
   "cell_type": "code",
   "execution_count": 8,
   "metadata": {},
   "outputs": [
    {
     "data": {
      "text/plain": [
       "{0: 0.01321914850756847,\n",
       " 1: 0.04305614905051307,\n",
       " 2: 0.0224184422385673,\n",
       " 3: 0.020763573555365067,\n",
       " 4: 0.1519409000092644,\n",
       " 5: 0.015278038556628357,\n",
       " 6: 0.04357199076624549,\n",
       " 7: 0.08868962006965002,\n",
       " 8: 0.009276594051426114,\n",
       " 9: 0.027215223573378695,\n",
       " 10: 0.009276594051426114,\n",
       " 11: 0.009276594051426114,\n",
       " 12: 0.009276594051426114,\n",
       " 13: 0.021104257419853185,\n",
       " 14: 0.023535500084085954,\n",
       " 15: 0.009276594051426114,\n",
       " 16: 0.018135203917936826,\n",
       " 17: 0.009276594051426114,\n",
       " 18: 0.01264966891920012,\n",
       " 19: 0.05375946044542632,\n",
       " 20: 0.009276594051426114,\n",
       " 21: 0.011904963688854351,\n",
       " 22: 0.15057445865003966,\n",
       " 23: 0.02084377195458973,\n",
       " 24: 0.025679331302227965,\n",
       " 25: 0.02721686924658904,\n",
       " 26: 0.0925438315518033,\n",
       " 27: 0.009276594051426114,\n",
       " 28: 0.009276594051426114,\n",
       " 29: 0.03241025002937753}"
      ]
     },
     "execution_count": 8,
     "metadata": {},
     "output_type": "execute_result"
    }
   ],
   "source": [
    "nx.pagerank(g)"
   ]
  },
  {
   "cell_type": "code",
   "execution_count": 19,
   "metadata": {},
   "outputs": [],
   "source": [
    "import random as rd\n",
    "import numpy as np\n",
    "\n",
    "def pagerank(n):\n",
    "    #creating empty lists where we will save numbers of tmes the surfer visisted each page\n",
    "    lists = [[] for _ in range(30)]\n",
    "    #chooosing a random node\n",
    "    node = rd.choice(list(g.nodes))\n",
    "    #updating # of times this node was visited\n",
    "    lists[node].append(1)\n",
    "    for i in range(n):\n",
    "        if rd.uniform(0,1) < 0.85:\n",
    "            #if there is at least one neighbor, go to a random neighbr\n",
    "            if len(list(g.neighbors(node))) > 0:\n",
    "                node = rd.choice(list(g.neighbors(node)))\n",
    "                lists[node].append(1)\n",
    "            else:\n",
    "                #if not, choose a random node\n",
    "                node = rd.choice(list(g.nodes))\n",
    "                lists[node].append(1)\n",
    "        else:\n",
    "            #choosing a random node\n",
    "            node = rd.choice(list(g.nodes))\n",
    "            lists[node].append(1)\n",
    "        \n",
    "    for i in range(len(lists)):\n",
    "        #normalizing page ranks\n",
    "        lists[i] = np.sum(lists[i])/n\n",
    "    return lists"
   ]
  },
  {
   "cell_type": "code",
   "execution_count": 44,
   "metadata": {},
   "outputs": [],
   "source": [
    "#computing average errors for different numbers of iterations\n",
    "ns = []\n",
    "errors = []\n",
    "for i in range(100,10100,200):\n",
    "    ns.append(i)\n",
    "    a = pagerank(i)\n",
    "    error = 0\n",
    "    for k in range(30):\n",
    "        error += abs(a[k]-nx.pagerank(g)[k])\n",
    "    errors.append(error/30)"
   ]
  },
  {
   "cell_type": "code",
   "execution_count": 49,
   "metadata": {},
   "outputs": [
    {
     "data": {
      "image/png": "[encoded data removed]",
      "text/plain": [
       "<matplotlib.figure.Figure at 0x7f9262d2f978>"
      ]
     },
     "metadata": {},
     "output_type": "display_data"
    }
   ],
   "source": [
    "import matplotlib.pyplot as plt\n",
    "plt.plot(ns, errors, color='royalblue')\n",
    "plt.xlabel('Number of iterations')\n",
    "plt.ylabel('Average error')\n",
    "plt.show()\n"
   ]
  }
 ],
 "metadata": {
  "kernelspec": {
   "display_name": "Python 3",
   "language": "python",
   "name": "python3"
  },
  "language_info": {
   "codemirror_mode": {
    "name": "ipython",
    "version": 3
   },
   "file_extension": ".py",
   "mimetype": "text/x-python",
   "name": "python",
   "nbconvert_exporter": "python",
   "pygments_lexer": "ipython3",
   "version": "3.6.3"
  }
 },
 "nbformat": 4,
 "nbformat_minor": 2
}
