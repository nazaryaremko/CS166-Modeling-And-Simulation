{
 "cells": [
  {
   "cell_type": "code",
   "execution_count": 8,
   "metadata": {},
   "outputs": [
    {
     "name": "stdout",
     "output_type": "stream",
     "text": [
      "The final position is: 8\n"
     ]
    },
    {
     "data": {
      "text/plain": [
       "[<matplotlib.lines.Line2D at 0x7f9c3ee1cd30>]"
      ]
     },
     "execution_count": 8,
     "metadata": {},
     "output_type": "execute_result"
    },
    {
     "data": {
      "image/png": "[encoded data removed]",
      "text/plain": [
       "<Figure size 432x288 with 1 Axes>"
      ]
     },
     "metadata": {},
     "output_type": "display_data"
    }
   ],
   "source": [
    "import random\n",
    "import matplotlib.pyplot as plt\n",
    "import numpy as np\n",
    "\n",
    "def random_walk(n):\n",
    "    position = 0 \n",
    "    path = [0]\n",
    "    for i in range(n):\n",
    "        if random.uniform(0,1) < 0.6:\n",
    "            position+=1\n",
    "            path.append(position)\n",
    "        else:\n",
    "            position-=1\n",
    "            path.append(position)\n",
    "    return position, path\n",
    "\n",
    "a = random_walk(30)\n",
    "print('The final position is:', a[0])\n",
    "plt.plot(np.linspace(0,30, 31), a[1])"
   ]
  },
  {
   "cell_type": "code",
   "execution_count": 17,
   "metadata": {},
   "outputs": [
    {
     "name": "stdout",
     "output_type": "stream",
     "text": [
      "The sample mean is: 6.01\n",
      "The sample variaince is: 30.819899999999997\n"
     ]
    },
    {
     "data": {
      "image/png": "[encoded data removed]",
      "text/plain": [
       "<Figure size 432x288 with 1 Axes>"
      ]
     },
     "metadata": {},
     "output_type": "display_data"
    }
   ],
   "source": [
    "final_positions = []\n",
    "for i in range(200):\n",
    "    final_positions.append(random_walk(30)[0])\n",
    "    \n",
    "plt.hist(final_positions, edgecolor='black')\n",
    "print('The sample mean is:', np.mean(final_positions))\n",
    "print('The sample variaince is:', np.var(final_positions))"
   ]
  },
  {
   "cell_type": "code",
   "execution_count": 54,
   "metadata": {
    "collapsed": true
   },
   "outputs": [],
   "source": [
    "def gamblers_game(player_money, house_money, duration):\n",
    "    timer = 0\n",
    "    player_money = player_money\n",
    "    house_money = house_money\n",
    "    while player_money > 0 and house_money > 0 and timer < duration:\n",
    "        if random.uniform(0,1)<0.5:\n",
    "            player_money -= 1\n",
    "            house_money += 1\n",
    "            timer += 1\n",
    "        else:\n",
    "            house_money -= 1\n",
    "            player_money += 1\n",
    "            timer += 1\n",
    "    return timer, player_money, house_money"
   ]
  },
  {
   "cell_type": "code",
   "execution_count": 59,
   "metadata": {},
   "outputs": [
    {
     "name": "stdout",
     "output_type": "stream",
     "text": [
      "The sample mean is: 2240.9733333333334\n",
      "The sample variaince is: 3696309.4792888886\n"
     ]
    }
   ],
   "source": [
    "timer_limited = []\n",
    "for i in range(100):\n",
    "    timer_limited.append(gamblers_game(100, 2000, 5000))\n",
    "print('The sample mean is:', np.mean(timer_limited))\n",
    "print('The sample variaince is:', np.var(timer_limited))\n",
    "                                                       "
   ]
  },
  {
   "cell_type": "code",
   "execution_count": 60,
   "metadata": {},
   "outputs": [
    {
     "name": "stdout",
     "output_type": "stream",
     "text": [
      "The sample mean is: 24942.646666666667\n",
      "The sample variaince is: 17628851931.115158\n"
     ]
    }
   ],
   "source": [
    "timer_unlimited = []\n",
    "for i in range(100):\n",
    "    timer_limited.append(gamblers_game(100, 2000, float('inf')))\n",
    "print('The sample mean is:', np.mean(timer_limited))\n",
    "print('The sample variaince is:', np.var(timer_limited))"
   ]
  }
 ],
 "metadata": {
  "kernelspec": {
   "display_name": "Python 3",
   "language": "python",
   "name": "python3"
  },
  "language_info": {
   "codemirror_mode": {
    "name": "ipython",
    "version": 3
   },
   "file_extension": ".py",
   "mimetype": "text/x-python",
   "name": "python",
   "nbconvert_exporter": "python",
   "pygments_lexer": "ipython3",
   "version": "3.6.3"
  }
 },
 "nbformat": 4,
 "nbformat_minor": 2
}
